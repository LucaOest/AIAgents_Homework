{
 "cells": [
  {
   "cell_type": "code",
   "execution_count": null,
   "id": "c5bcd24b",
   "metadata": {},
   "outputs": [
    {
     "name": "stdout",
     "output_type": "stream",
     "text": [
      "10 768 768\n",
      "Top similarity score: 0.6972845696595371\n",
      "Sorted indices by similarity: [0 4 8 3 9 6 7 1 5 2]\n"
     ]
    },
    {
     "data": {
      "text/markdown": [
       "Okay, based on the provided talk snippets, here’s a response focusing on festival talks related to nature and sustainability, aiming to provide a thoughtful and informative answer to your question.  I’ll synthesize the themes and ideas presented.\n",
       "\n",
       "---\n",
       "\n",
       "Okay, let's dive into sustainability and nature through festival talks. It sounds like you're interested in a really fascinating intersection – the blending of ecological principles and creative innovation. Here’s a breakdown of what I’ve gleaned, grouped by the overall themes:\n",
       "\n",
       "**1.  Focusing on Design & the Future:**\n",
       "\n",
       "*   **“The Next Nature”:** This talk highlights a significant shift in design thinking. It's not just about aesthetics anymore; it's about *consciously* incorporating the principles of nature into our creations. Biomimicry – learning from nature’s solutions – and regenerative design – designing with the goal of restoring and improving ecosystems – are key concepts.  It suggests a move away from purely human-centric design towards a more symbiotic relationship with the environment. \n",
       "\n",
       "**2.  Addressing Climate Urgency & Futuristic Solutions:**\n",
       "\n",
       "*   **“Planet B”:** This talk is a powerful call to action, addressing climate change through ambitious and imaginative concepts. The focus on terraforming – fundamentally altering a planet – and creating sustainable off-world habitats – particularly in Venus’ cloud layers – speaks to a desperate need for innovative solutions. It’s a sobering but urgent message about the possibilities (and challenges) of planetary restoration. \n",
       "\n",
       "**3.  Exploring Decentralized & Community-Driven Spaces:**\n",
       "\n",
       "*   **“The Wild Web”:** This talk directly addresses the challenges of our current digital infrastructure – algorithms controlling everything. The idea of rebuilding the web for people, rather than profit, is a compelling and timely one. Decentralized digital spaces, created by rebels and hackers, represent a potential pathway to greater control, privacy, and environmental consciousness.  It suggests a shift away from data-driven capitalism and towards a more equitable and ecologically-focused internet. \n",
       "\n",
       "**Overall, these talks point to a future where sustainability isn’t just about *reducing* harm, but actively *rebuilding* systems based on observation and inspiration from the natural world.**\n",
       "\n",
       "---\n",
       "\n",
       "**To help me refine this further and give you even more relevant insights, could you tell me:**\n",
       "\n",
       "*   **What specifically are you hoping to learn about?** (e.g., practical applications, technological breakthroughs, philosophical implications, etc.)"
      ],
      "text/plain": [
       "<IPython.core.display.Markdown object>"
      ]
     },
     "metadata": {},
     "output_type": "display_data"
    }
   ],
   "source": [
    "\n",
    "festival_talks = [\n",
    "    \"🌿 The Next Nature: Designing with the Future in Mind — Explore how biomimicry, regenerative design, and synthetic biology are reshaping architecture, materials, and cities. Where does design end and nature begin?\",\n",
    "    \"🧠 Neural Frontiers: The Brain-Computer Interface Revolution — From thought-controlled devices to memory enhancement, dive into the fast-evolving world of brain tech — and the ethical mazes it brings.\",\n",
    "    \"🎨🤖 AI & the Soul of Art: Who Really Owns Creativity? — Artists, coders, and philosophers debate the rise of generative art. Can machines make meaning? And where does human intuition still reign supreme?\",\n",
    "    \"💼🚫 Post-Work: Imagining a Life Beyond Jobs — As automation reshapes labor, what comes next? UBI, digital nomadism, reputation economies — a candid discussion about freedom, purpose, and survival.\",\n",
    "    \"🪐 Planet B: Terraforming Ideas for Earth 2.0 — Science fiction meets climate urgency. This talk blends real research with wild speculation — from Mars domes to floating cities in the clouds of Venus.\",\n",
    "    \"🕶️🌐 Reality is Optional: The Rise of Immersive Worlds — VR, AR, XR — and whatever’s next. What happens when our digital spaces feel more real than reality itself? And who gets to write the rules?\",\n",
    "    \"🧬⏳ The Ethics of Immortality: Living Forever in a Mortal World — Cryonics, gene editing, mind uploading — tech is chasing eternal life. But what would it mean for love, loss, and the human condition?\",\n",
    "    \"💻⚖️ Code as Culture: Programming the Future We Want — Code is not neutral — it shapes societies. This talk explores how developers are becoming the new lawmakers, and how we hold them accountable.\",\n",
    "    \"🕸️🛠️ The Wild Web: Reclaiming the Internet from Algorithms — Can we rebuild the web for people, not profit? Meet the rebels, hackers, and dreamers creating decentralized, community-first digital spaces.\",\n",
    "    \"🕰️🚀 Time Travelers Welcome: Building the Long Now — Futurists, historians, and deep-time thinkers gather to explore projects that think in centuries — from 10,000-year clocks to interstellar archives.\"\n",
    "]\n",
    "\n",
    "import numpy as np\n",
    "from ollama import embed\n",
    "from ollama import chat\n",
    "from IPython.display import display, Markdown\n",
    "\n",
    "\n",
    "response = embed(model='nomic-embed-text', input=festival_talks)\n",
    "embedding = response['embeddings']\n",
    "print(len(embedding), len(embedding[0]), len(embedding[0]))\n",
    "\n",
    "vectors = np.array(embedding)\n",
    "\n",
    "query = np.array(embed(model='nomic-embed-text', input='I am interested in nature and sustainability!')['embeddings'])\n",
    "\n",
    "# Use angle instead of distance\n",
    "# Normalize vectors and query for cosine similarity\n",
    "normalized_vectors = vectors / np.linalg.norm(vectors, axis=1, keepdims=True)\n",
    "normalized_query = query / np.linalg.norm(query)\n",
    "\n",
    "# Compute cosine similarity\n",
    "cosine_similarities = np.dot(normalized_vectors, normalized_query.T).flatten()\n",
    "\n",
    "# Sort indices by descending similarity (higher is better)\n",
    "sorted_indices = np.argsort(-cosine_similarities)\n",
    "\n",
    "print(\"Top similarity score:\", cosine_similarities[sorted_indices[0]])\n",
    "print(\"Sorted indices by similarity:\", sorted_indices)\n",
    "\n",
    "\n",
    "# Sort festival_talks according to the sorted_indices\n",
    "sorted_festival_talks = [festival_talks[i] for i in sorted_indices]\n",
    "\n",
    "retrieved_festival_talks = sorted_festival_talks[:3]\n",
    "\n",
    "retrieved_content = '\\n\\n'.join(retrieved_festival_talks)\n",
    "\n",
    "chat_response = chat(model='gemma3:1b', messages=[\n",
    "    {\n",
    "    'role': 'user',\n",
    "    'content': 'User Question:\\nI am interested in nature and sustainability\\n\\n' + 'Answer the user question on festival talks as best as you can based on the retrieved festival talks\\n\\nRetrieved content:\\n\\n' + retrieved_content,\n",
    "    },\n",
    "])\n",
    "\n",
    "display(Markdown(chat_response.message.content))\n",
    "\n",
    "\n",
    "\n",
    "     \n",
    "\n"
   ]
  }
 ],
 "metadata": {
  "kernelspec": {
   "display_name": "Python 3",
   "language": "python",
   "name": "python3"
  },
  "language_info": {
   "codemirror_mode": {
    "name": "ipython",
    "version": 3
   },
   "file_extension": ".py",
   "mimetype": "text/x-python",
   "name": "python",
   "nbconvert_exporter": "python",
   "pygments_lexer": "ipython3",
   "version": "3.11.9"
  }
 },
 "nbformat": 4,
 "nbformat_minor": 5
}
