{
 "cells": [
  {
   "cell_type": "code",
   "execution_count": 5,
   "id": "bd3eeeab",
   "metadata": {},
   "outputs": [
    {
     "name": "stdout",
     "output_type": "stream",
     "text": [
      "10 768 768\n",
      "Closest vector index: 0\n",
      "Distance: 0.7780945962291466\n",
      "Sorted indices by distance: [0 4 8 3 9 6 7 1 5 2]\n"
     ]
    },
    {
     "data": {
      "text/markdown": [
       "Okay, based on the retrieved content, here’s a response to your question about festival talks focusing on nature and sustainability, aiming to best answer your interest:\n",
       "\n",
       "“Absolutely! Based on the talks you’ve provided, it’s clear you’re interested in exploring the intersection of nature and sustainability. Here’s a breakdown of what the talks suggest, focusing on how they approach this theme:\n",
       "\n",
       "**1. 🌿 The Next Nature: Designing with the Future in Mind:** This talk highlights a shift in design towards incorporating biological principles. It suggests biomimicry (learning from nature) and regenerative design – essentially, designing systems that heal and improve the environment – are key. This aligns perfectly with your interest in sustainability because it’s about creating solutions that work *with* nature, rather than against it.\n",
       "\n",
       "**2. 🪐 Planet B: Terraforming Ideas for Earth 2.0:** This talk tackles the critical challenge of climate change by proposing radical, speculative solutions like terraforming Mars and creating floating cities in Venus’s atmosphere. It's a compelling demonstration of how innovation and a deep understanding of Earth’s systems are vital for addressing environmental problems. The focus on “reclaiming the internet” from algorithms also speaks to a broader concern for the health of our planet, as algorithms often contribute to problems.\n",
       "\n",
       "**3. 🕸️🛠️ The Wild Web: Reclaiming the Internet from Algorithms:** This talk offers a unique perspective – it’s about rebuilding the internet, not for profit, but for people. This implies a fundamental rethinking of how digital spaces are designed and operated, with a strong emphasis on decentralization, community, and ethical considerations – all vital for a sustainable digital future.\n",
       "\n",
       "**Overall, these talks point to a multi-faceted approach to sustainability, incorporating:**\n",
       "\n",
       "*   **Biomimicry & Regenerative Design:** Learning from and replicating natural systems.\n",
       "*   **Climate Change Solutions:** Exploring innovative approaches to mitigate and adapt to environmental challenges.\n",
       "*   **Digital Transformation:** Rethinking how technology can be used to protect and enhance the planet.\n",
       "\n",
       "To help me tailor my response further, could you tell me:\n",
       "\n",
       "*   **What specifically are you hoping to *do* with this information?** (e.g., are you looking for more talks, deeper discussion, or practical advice?)"
      ],
      "text/plain": [
       "<IPython.core.display.Markdown object>"
      ]
     },
     "metadata": {},
     "output_type": "display_data"
    }
   ],
   "source": [
    "\n",
    "festival_talks = [\n",
    "    \"🌿 The Next Nature: Designing with the Future in Mind — Explore how biomimicry, regenerative design, and synthetic biology are reshaping architecture, materials, and cities. Where does design end and nature begin?\",\n",
    "    \"🧠 Neural Frontiers: The Brain-Computer Interface Revolution — From thought-controlled devices to memory enhancement, dive into the fast-evolving world of brain tech — and the ethical mazes it brings.\",\n",
    "    \"🎨🤖 AI & the Soul of Art: Who Really Owns Creativity? — Artists, coders, and philosophers debate the rise of generative art. Can machines make meaning? And where does human intuition still reign supreme?\",\n",
    "    \"💼🚫 Post-Work: Imagining a Life Beyond Jobs — As automation reshapes labor, what comes next? UBI, digital nomadism, reputation economies — a candid discussion about freedom, purpose, and survival.\",\n",
    "    \"🪐 Planet B: Terraforming Ideas for Earth 2.0 — Science fiction meets climate urgency. This talk blends real research with wild speculation — from Mars domes to floating cities in the clouds of Venus.\",\n",
    "    \"🕶️🌐 Reality is Optional: The Rise of Immersive Worlds — VR, AR, XR — and whatever’s next. What happens when our digital spaces feel more real than reality itself? And who gets to write the rules?\",\n",
    "    \"🧬⏳ The Ethics of Immortality: Living Forever in a Mortal World — Cryonics, gene editing, mind uploading — tech is chasing eternal life. But what would it mean for love, loss, and the human condition?\",\n",
    "    \"💻⚖️ Code as Culture: Programming the Future We Want — Code is not neutral — it shapes societies. This talk explores how developers are becoming the new lawmakers, and how we hold them accountable.\",\n",
    "    \"🕸️🛠️ The Wild Web: Reclaiming the Internet from Algorithms — Can we rebuild the web for people, not profit? Meet the rebels, hackers, and dreamers creating decentralized, community-first digital spaces.\",\n",
    "    \"🕰️🚀 Time Travelers Welcome: Building the Long Now — Futurists, historians, and deep-time thinkers gather to explore projects that think in centuries — from 10,000-year clocks to interstellar archives.\"\n",
    "]\n",
    "\n",
    "import numpy as np\n",
    "from ollama import embed\n",
    "from ollama import chat\n",
    "from IPython.display import display, Markdown\n",
    "\n",
    "\n",
    "response = embed(model='nomic-embed-text', input=festival_talks)\n",
    "embedding = response['embeddings']\n",
    "print(len(embedding), len(embedding[0]), len(embedding[0]))\n",
    "\n",
    "vectors = np.array(embedding)\n",
    "\n",
    "query = np.array(embed(model='nomic-embed-text', input='I am interested in nature and sustainability!')['embeddings'])\n",
    "\n",
    "# Compute Euclidean distances\n",
    "differences = vectors - query  # shape: (n_vectors, vector_dim)\n",
    "distances = np.linalg.norm(differences, axis=1)\n",
    "\n",
    "# Index of closest vector\n",
    "closest_index = np.argmin(distances)\n",
    "\n",
    "# Sorted indices by distance\n",
    "sorted_indices = np.argsort(distances)\n",
    "\n",
    "print(\"Closest vector index:\", closest_index)\n",
    "print(\"Distance:\", distances[closest_index])\n",
    "print(\"Sorted indices by distance:\", sorted_indices)\n",
    "#festival_talks[closest_index]\n",
    "\n",
    "\n",
    "# Sort festival_talks according to the sorted_indices\n",
    "sorted_festival_talks = [festival_talks[i] for i in sorted_indices]\n",
    "\n",
    "retrieved_festival_talks = sorted_festival_talks[:3]\n",
    "\n",
    "retrieved_content = '\\n\\n'.join(retrieved_festival_talks)\n",
    "\n",
    "chat_response = chat(model='gemma3:1b', messages=[\n",
    "    {\n",
    "    'role': 'user',\n",
    "    'content': 'User Question:\\nI am interested in nature and sustainability\\n\\n' + 'Answer the user question on festival talks as best as you can based on the retrieved festival talks\\n\\nRetrieved content:\\n\\n' + retrieved_content,\n",
    "    },\n",
    "])\n",
    "\n",
    "display(Markdown(chat_response.message.content))\n",
    "\n",
    "\n",
    "\n",
    "     \n",
    "\n",
    "\n",
    "     \n"
   ]
  },
  {
   "cell_type": "code",
   "execution_count": 4,
   "id": "01def373",
   "metadata": {},
   "outputs": [
    {
     "name": "stdout",
     "output_type": "stream",
     "text": [
      "[[-0.04108732, 0.06590342, -0.1784274, -0.015543957, 0.021340262, -0.025953412, -0.0121118035, 0.017173074, -0.010389602, -0.032108467, 0.050749626, -0.019189449, 0.04552199, -0.008672651, 0.011781941, 0.021150818, -0.03965168, -0.06285773, -0.030630657, -0.0077022915, -0.016771356, -0.029169276, -0.011076841, 0.032105356, 0.08963645, 0.053487636, -0.027062165, 0.019496802, -0.007684097, 0.058898628, 0.075549744, -0.028266774, 0.020987337, 0.010476018, 0.043711383, 0.034303866, -0.005253764, 0.011740258, -0.0054620206, 0.0020147965, 0.041716725, 0.0093771005, 0.031971056, -0.0052172076, 0.048823744, -0.076426454, 0.020609893, 0.04503109, 0.050497126, -0.0709221, -0.020513687, -0.028613722, -0.026741464, 0.008609928, 0.06528301, -0.018946601, -0.01804146, -0.0116388295, 0.008175091, 0.01605191, 0.08497291, 0.030147918, 0.0014397288, 0.062843174, 0.019711861, 0.052403934, -0.012288894, 0.07102266, -0.008367807, -0.011791807, 0.057529513, 0.00580353, -0.0030269457, 0.012964367, -0.01951905, 0.019849157, -0.0015877441, -0.0755052, -0.010163152, 0.00096377963, 0.012269246, -0.027564585, 0.08457061, -0.055126965, 0.0588626, -0.027025543, 0.02349177, -0.024428736, -0.0052808705, 0.07849448, -0.009905922, 0.03574439, -0.018089605, 0.034634516, -0.035019867, -0.0011065999, 0.0155310575, 0.007830457, -0.09672618, 0.030781278, -0.050645456, -0.02721849, -0.049869787, 0.0047401977, 0.07349624, -0.0064456286, -0.024518274, -0.027844943, -0.015048047, 0.01891468, 0.010821582, 0.023960762, -0.007831215, -0.037585534, 0.009259498, 0.019393682, 0.077206634, -0.07023024, 0.07473839, -0.008234675, -0.005370616, -0.0002482218, 0.0082143275, -0.033433646, 0.002053378, -0.0056754085, -0.040357985, -0.01877216, -0.036023494, -0.058426235, -0.013657362, 0.00027672885, -0.038615443, -0.005062705, 0.028840644, 0.023012908, -0.027993716, -0.05795195, -0.0013706669, 0.019513158, 0.011835837, -0.015958536, -0.0038964164, 0.023878947, 0.006843566, -0.040021718, 0.043224033, 0.014252108, 0.0047621243, -0.010140732, 0.01094179, 0.00736796, -0.010788719, 0.057745468, -0.010353407, -0.043312814, -0.035979334, -0.047043577, 0.0630781, 0.021085193, 0.016650913, 0.025415309, -0.070788294, 0.028134508, 0.034407917, -0.060152043, 0.047067214, 0.048981514, 0.05513643, 0.006321711, -0.102857344, -0.05973923, 0.00600473, 0.0029217293, 0.0010460143, -0.069705464, -0.005582865, -0.02080141, 0.029950537, 0.01735409, 0.06197614, -0.03156995, -0.0024845798, 0.03205073, -0.04105679, 0.0067630224, -0.031417005, 0.0066600055, -0.019003477, -0.017198332, 0.027332105, -0.013837502, -0.075261496, -0.0032577636, -0.057171997, -0.013414501, 0.029734703, 0.010769381, 0.060773604, -0.04668334, -0.03275471, -0.0083346125, -0.033178844, 0.047028527, 0.023291802, 0.05355668, -0.019212734, 0.03401413, -0.0007382209, 0.012526708, 0.06132479, 0.018903676, 0.018836254, 0.015159505, 0.019481404, 0.02215986, -0.021148011, -0.059477095, -0.006261856, 0.016391363, 0.066440366, 0.010572612, 0.034111165, -0.0065938146, 0.04531055, -0.09718659, -0.040165734, 0.04220616, -0.0015404713, 0.050938867, -0.020984313, -0.03437194, 0.014716543, 0.025234163, -0.0016173695, 0.01595729, -0.010897072, 0.057255473, -0.0016220976, -0.026295263, -0.0124409795, 0.0030894985, -0.032812264, -0.053286698, -0.06419674, 0.00064808986, -0.06108431, -0.03482701, -0.03372934, -0.026571484, 0.03169762, 0.051654834, 0.001778622, -0.049580086, 0.02135241, 0.015102203, 0.004373404, -0.018939812, 0.016876116, -0.023163512, 0.0684935, -0.043906547, 0.02774249, -0.04648958, 0.03895091, 0.032601196, -0.04609025, -0.011815436, 0.002417323, -0.063641466, -0.017249798, 0.05240906, -0.004409968, 0.018587384, 0.002525573, 0.0016886625, 0.0040931874, 0.029613242, -0.04780665, 0.032665417, -0.059140097, 0.010205084, -0.0368927, 0.016758228, 0.025691874, 0.022377528, 0.008306859, 0.013435678, 0.051511504, 0.0040026843, 0.06593336, 0.0439484, 0.017839966, 0.09387294, -0.05702494, -0.010407199, 0.0061939848, 0.00028815327, -0.049202062, 0.007709796, 0.038673036, 0.007441065, 0.034686945, 0.025292294, -0.0031008804, -0.045587227, 0.044927094, 0.027731815, 0.022527445, -0.0087570585, -0.02864822, 0.00072920235, -0.043077122, -0.045023642, -0.047124375, -0.010782173, -0.0051276768, -0.0070770504, 0.04108295, -0.03615492, -0.043613274, 0.006715271, -0.06597054, -0.048906688, -0.011693045, 0.0168243, -0.016592108, 0.011423349, 0.01860013, -0.033711687, -0.01077891, 0.059863783, 0.030543655, -0.017181853, 0.029742178, 0.0103368675, 0.031248596, -0.016702063, -0.009785636, 0.014566403, 0.010338112, 0.003287748, -0.0136083, -0.03090411, -0.042032935, 0.007354661, 0.036326017, -0.064949155, 0.025450952, 0.00793383, -0.039193116, 0.0076796343, -0.0474337, 0.02833113, -0.026442368, -0.015468236, -0.012167993, -0.010193888, 0.038745504, 0.005374787, 0.0038425068, 0.019838631, -0.025119914, -0.026394444, -0.015727166, -0.018642994, 0.060419425, -0.013175, 0.0038911742, 0.0133916065, 0.00047926608, 0.005087693, 0.057769183, 0.025852017, 0.009056251, 0.008009586, -0.09545877, 0.017013483, 0.00042700954, -0.016782923, 0.009773544, -0.021323312, 0.008361363, -0.012457611, -0.015968103, 0.015329408, 0.018239256, -0.035770275, -0.018590936, 0.037935793, -0.054866616, -0.013325896, -0.065361254, 0.002990336, -0.026212066, 0.005723365, 0.05098342, 0.013881883, -0.003929547, 0.04552794, -0.02772757, -0.05770439, -0.043194514, -0.09453797, -0.016551275, 0.0028232706, -0.03400733, 0.008285278, 0.05973342, 0.03804217, 0.061955772, 0.04881606, 0.056057923, -0.023174096, 0.043849703, 0.00853727, 0.046375286, 0.011677893, 0.023056533, -0.032245636, 0.027978942, -0.017530195, 0.038315084, -0.014596484, 0.015039399, 0.022945201, 0.049115293, 0.042122763, -0.03523994, -0.036256883, -0.010365817, 0.013419594, 0.019047998, -0.042182527, -0.03575932, 0.0105334185, 0.032707233, 0.022713551, -0.005070007, -0.0029721763, 0.03135195, 0.017469587, 0.005275873, -0.016841922, 0.005747153, 0.073110774, 0.077944554, 0.0005701528, -0.019141668, -0.050769012, 0.052650798, 0.023424229, 0.039053068, 0.039339773, 0.09862545, -0.0023262058, -0.02864212, 0.04249115, 0.079372875, 0.027081175, 0.013089044, -0.028933672, -0.036712565, 0.03912619, 0.034140106, 0.005563151, -0.03196777, -0.065024674, 0.03211403, 0.045087274, 0.0410275, 0.03440274, 0.023695607, -0.025255552, -0.06540387, 0.01840534, -0.0147027075, 0.01339903, 0.004448397, 0.043383636, 0.0045070006, -0.030166596, -0.031109218, -0.062215954, -0.012031395, 0.033175446, 0.047910567, -0.006549714, -0.013582923, -0.02925244, 0.03548691, 0.00317944, -0.0080022635, -0.007482449, 0.059159815, -0.02688776, -0.001539638, -0.03488489, 0.039781198, -0.076655075, 0.015942443, 0.033834036, 0.0026122024, 0.008453367, -0.024000566, 0.051803492, 0.034821264, -0.06678498, -0.020711295, 0.034971505, -0.024106774, -0.009164079, -0.05892439, 0.038473345, -0.0029002596, -0.019069446, 0.029427692, 0.040204853, -0.04843791, 0.03469802, 0.0032513554, -0.037956096, -0.0028134154, -0.021397948, -0.07687813, 0.009138229, 0.008273531, -0.017897747, 0.041034836, 0.010308198, 0.0029283247, -0.025762357, -0.06785195, -0.01671792, -0.03650418, 0.004947321, -0.058016352, 0.039919928, 0.09536831, -0.009688699, -0.009099496, -0.030133892, 0.018515905, -0.041185062, -0.015451419, 0.0002349681, -0.06515412, 0.015168783, -0.036072385, -0.026515814, 0.0034658983, -0.06765711, 0.017298497, -0.015546317, 0.009383788, -0.006732202, -0.023288725, 0.036994945, -0.053291876, 0.046477135, 0.023824245, -0.014276779, 0.08581605, 0.004001806, 0.013658151, 1.7295311e-05, -0.0033144401, -0.025692495, -0.009501366, -0.023387998, 0.02096717, -0.052215226, 0.031702295, 0.040983435, 0.051134538, -0.047389627, 0.020162167, 0.0063590286, -0.016097285, -0.020769523, 0.049811367, -0.055586223, 0.05725393, 0.033715528, -0.009573123, 0.01186689, -0.016472975, 0.011376282, 0.031414468, -0.050885227, -0.0021762631, 0.011957663, -0.0071353344, -0.055749547, -0.008032414, -0.0046231695, -0.05381001, -0.05562085, -0.025298825, -0.06315346, -0.030421365, 0.00657432, -0.0002020856, -0.006535639, -0.012791189, 0.07336092, 0.0081742285, -0.024009468, 0.021636289, -0.010895798, 0.0050261216, -0.011644467, -0.030281818, -0.0327252, -0.008548852, -0.016164288, 0.050643303, -0.032856137, -0.01461299, -0.024374282, -0.012990179, -0.034164257, 0.031284917, 0.026135372, 0.04162799, -0.0022194413, -0.03785021, -0.053194754, -0.002637058, 0.04067887, 0.015151606, 0.04088679, -0.054132428, -0.036063332, -0.058675464, 0.011796432, -0.024210084, -0.029989501, -0.005742281, 0.00242199, 0.03805569, 0.0130499, -0.052087035, 0.04981258, 0.08827364, -0.044354584, 0.061960418, 0.025248505, 0.03675025, -0.013516236, 0.013847841, 0.0376493, 0.08181233, -0.036286913, 0.015328326, -0.017843522, 0.035819795, 0.013041038, -0.01951634, -0.037870575, 0.0073280847, -0.0031553165, -0.0016580068, 0.039615527, 0.0013970189, -0.027398907, -0.031573925, 0.064977676, -0.10125525, -0.010227414, 0.058719248, 0.041103616, -0.037933122, -0.05327111, 0.033418775, 0.025131296, 0.025967715, 0.05413478, 0.0033214272, -0.041137207, -0.041433223, -0.01962378, 0.034282878, 0.008935599, 0.036025897, -0.005895988, -0.0037795037, -0.030082103, 0.015552334, -0.076875165, -0.017126238, -0.05221711, -0.008269697, -0.014808734, -0.012811701, -0.005484469, -0.047832433, -0.028643781, -0.006882086, 0.015977632, -0.04791165, 0.013335439, 0.0033102983, 0.058247726, 0.013804967, 0.002228375, 0.016303353, 0.03152719, -0.0114155, -0.025876876, -0.023436422, 0.02198688, -0.023514315, 0.014051011, 0.053251404, 0.0013382772, -0.051944863, 0.009455024, 0.011656132, 0.03225613, 0.05094205, -0.019562248, -0.07479241, 0.0088592, 0.0013031062, -0.028845707, 0.021717878, -0.030236568, -0.017472226, -0.009854444, 0.052265823, -0.015636664, -0.052572638, 0.039286077, 0.0068486584, 0.023135316, -0.009504758, -0.009674362, -0.009705801, 0.019578135, -0.056049317, -0.0046937885, -0.01889966, 0.041546196, 0.0034191879, -0.014150676, 0.005760194, -0.006697279, 0.004384475, -0.0325085, -0.00918231, -0.03328978, -0.02883694, -0.039445646, -0.005696814, 0.035734527, 0.0053557674, 0.03227506, 0.116005704, 0.022174876, -0.005182642, -0.027777852, 0.039609455, 0.057989642, -0.039884448, -0.020655202, -0.017199744, 0.031580903]]\n",
      "768\n"
     ]
    }
   ],
   "source": [
    "\n",
    "festival_talks = [\n",
    "    \"🌿 The Next Nature: Designing with the Future in Mind — Explore how biomimicry, regenerative design, and synthetic biology are reshaping architecture, materials, and cities. Where does design end and nature begin?\",\n",
    "    \"🧠 Neural Frontiers: The Brain-Computer Interface Revolution — From thought-controlled devices to memory enhancement, dive into the fast-evolving world of brain tech — and the ethical mazes it brings.\",\n",
    "    \"🎨🤖 AI & the Soul of Art: Who Really Owns Creativity? — Artists, coders, and philosophers debate the rise of generative art. Can machines make meaning? And where does human intuition still reign supreme?\",\n",
    "    \"💼🚫 Post-Work: Imagining a Life Beyond Jobs — As automation reshapes labor, what comes next? UBI, digital nomadism, reputation economies — a candid discussion about freedom, purpose, and survival.\",\n",
    "    \"🪐 Planet B: Terraforming Ideas for Earth 2.0 — Science fiction meets climate urgency. This talk blends real research with wild speculation — from Mars domes to floating cities in the clouds of Venus.\",\n",
    "    \"🕶️🌐 Reality is Optional: The Rise of Immersive Worlds — VR, AR, XR — and whatever’s next. What happens when our digital spaces feel more real than reality itself? And who gets to write the rules?\",\n",
    "    \"🧬⏳ The Ethics of Immortality: Living Forever in a Mortal World — Cryonics, gene editing, mind uploading — tech is chasing eternal life. But what would it mean for love, loss, and the human condition?\",\n",
    "    \"💻⚖️ Code as Culture: Programming the Future We Want — Code is not neutral — it shapes societies. This talk explores how developers are becoming the new lawmakers, and how we hold them accountable.\",\n",
    "    \"🕸️🛠️ The Wild Web: Reclaiming the Internet from Algorithms — Can we rebuild the web for people, not profit? Meet the rebels, hackers, and dreamers creating decentralized, community-first digital spaces.\",\n",
    "    \"🕰️🚀 Time Travelers Welcome: Building the Long Now — Futurists, historians, and deep-time thinkers gather to explore projects that think in centuries — from 10,000-year clocks to interstellar archives.\"\n",
    "]\n",
    "\n",
    "\n",
    "from ollama import embed\n",
    "\n",
    "# Generate an embedding for a single input\n",
    "response = embed(model='nomic-embed-text', input='opencampus is the best!')\n",
    "\n",
    "# Access the embedding vector\n",
    "embedding = response['embeddings']\n",
    "print(embedding)\n",
    "print(len(embedding[0]))\n",
    "     \n"
   ]
  },
  {
   "cell_type": "code",
   "execution_count": 5,
   "id": "15612727",
   "metadata": {},
   "outputs": [
    {
     "data": {
      "text/markdown": [
       "Okay, let's brainstorm some Easter gift ideas for 2025! To give you the *best* recommendations, I need a little more information about the recipient. But here's a breakdown of ideas categorized by budget and interests, with options for everyone:\n",
       "\n",
       "**1. Budget-Friendly (Under $30)**\n",
       "\n",
       "* **Fun Easter Egg Hunt:** A classic for a reason! You can buy a basket of colorful eggs or create your own with small treats and toys.\n",
       "* **Easter-themed Coloring Books & Crayons:**  A relaxing activity for all ages.\n",
       "* **Miniature Garden Kits:**  Great for encouraging a love of plants, especially if they like decorating.\n",
       "* **Cute Easter Socks or Hats:**  Always a welcome and cozy gift.\n",
       "* **Chocolate or Candy Basket:**  A simple treat that almost everyone loves!\n",
       "* **Small Plant:** A succulent or a small, easy-to-care-for plant.\n",
       "\n",
       "\n",
       "**2. Mid-Range ($30 - $75)**\n",
       "\n",
       "* **Personalized Easter Cards:** A thoughtful and sentimental gift.\n",
       "* **Small Craft Kit:**  Knitting, jewelry making, or a simple DIY project.\n",
       "* **Books Related to Easter or Their Interests:**  If they love a particular holiday, fantasy, or a specific topic (e.g., gardening, baking)?\n",
       "* **Cozy Blanket or Throw:** Perfect for snuggling up during Easter.\n",
       "* **Miniature Succulents or Air Plants:**  A stylish and low-maintenance addition to any space.\n",
       "* **Bath Bombs or Soaps:** A luxurious and relaxing gift.\n",
       "\n",
       "\n",
       "**3. Higher-End ($75+)**\n",
       "\n",
       "* **Experiences:** Tickets to a local event, a spa day, or a weekend getaway. (Consider their interests – movies, museums, hiking, etc.)\n",
       "* **Subscription Box:** Tailored to their interests (coffee, books, beauty products, snacks, etc.).\n",
       "* **Jewelry:** A delicate necklace or bracelet (choose a simple, understated design).\n",
       "* **Tech Accessory:** AirPods, a portable charger, or a phone stand. (Consider if they're into technology)\n",
       "* **High-Quality Candles or Diffusers:** Creates a cozy and relaxing atmosphere.\n",
       "* **Donation to a Charity in Their Name:** A thoughtful gesture if they're passionate about a cause.\n",
       "\n",
       "**To help me narrow down the *perfect* recommendations for *you*, could you tell me:**\n",
       "\n",
       "*   **Who are you buying for?** (e.g., Mom, Dad, sibling, friend, partner, child?)\n",
       "*   **What are their interests?** (e.g., reading, gardening, cooking, gaming, sports, crafts, animals, music, fashion?)\n",
       "*   **What's your budget?** (A rough range is fine - e.g., under $25, $25-$50, $50-$100, $100+?)\n",
       "*   **What's their age range?** (This helps tailor the gifts to their maturity level.)"
      ],
      "text/plain": [
       "<IPython.core.display.Markdown object>"
      ]
     },
     "metadata": {},
     "output_type": "display_data"
    }
   ],
   "source": [
    "\n",
    "from ollama import chat\n",
    "from IPython.display import Markdown, display\n",
    "\n",
    "extra_content = \"It is Easter 2025.\"\n",
    "\n",
    "chat_response = chat(model='gemma3:1b', messages=[\n",
    "    {\n",
    "    'role': 'user',\n",
    "    'content': 'Hey, I am looking for some gifts, could you recommend some' + extra_content,\n",
    "    },\n",
    "])\n",
    "\n",
    "display(Markdown(chat_response.message.content))\n",
    "\n",
    "\n",
    "\n",
    "     \n",
    "\n",
    "\n",
    "\n",
    "\n",
    "     \n"
   ]
  }
 ],
 "metadata": {
  "kernelspec": {
   "display_name": "Python 3",
   "language": "python",
   "name": "python3"
  },
  "language_info": {
   "codemirror_mode": {
    "name": "ipython",
    "version": 3
   },
   "file_extension": ".py",
   "mimetype": "text/x-python",
   "name": "python",
   "nbconvert_exporter": "python",
   "pygments_lexer": "ipython3",
   "version": "3.11.9"
  }
 },
 "nbformat": 4,
 "nbformat_minor": 5
}
