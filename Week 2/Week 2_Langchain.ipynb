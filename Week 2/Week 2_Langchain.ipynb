{
 "cells": [
  {
   "cell_type": "code",
   "execution_count": 4,
   "id": "d81369bc",
   "metadata": {},
   "outputs": [
    {
     "name": "stdout",
     "output_type": "stream",
     "text": [
      "The most natural translation of \"Hello Germany!\" is:\n",
      "\n",
      "**Hallo Deutschland!** \n",
      "\n",
      "It’s perfectly acceptable and commonly used. 😊 \n",
      "\n",
      "You could also say:\n",
      "\n",
      "*   **Guten Tag, Deutschland!** (More formal)\n",
      "\n",
      "But “Hallo Deutschland!” is the best and most common choice.\n"
     ]
    }
   ],
   "source": [
    "from langchain_core.prompts import ChatPromptTemplate\n",
    "from langchain.chat_models import init_chat_model\n",
    "\n",
    "model = init_chat_model(\"gemma3:1b\", model_provider=\"ollama\")\n",
    "\n",
    "system_template = \"Translate the following from English into {language}\"\n",
    "\n",
    "prompt_template = ChatPromptTemplate.from_messages(\n",
    "    [(\"system\", system_template), (\"user\", \"{text}\")]\n",
    ")\n",
    "\n",
    "prompt = prompt_template.invoke({\"language\": \"German\", \"text\": \"Hello Germany!\"})\n",
    "\n",
    "\n",
    "\n",
    "response = model.invoke(prompt)\n",
    "print(response.content)\n"
   ]
  },
  {
   "cell_type": "code",
   "execution_count": 2,
   "id": "5a08e38d",
   "metadata": {},
   "outputs": [
    {
     "data": {
      "text/plain": [
       "AIMessage(content='The most natural translation is:\\n\\n**Hallo Deutschland!**\\n\\nIt’s perfectly fine and commonly used! 😊 \\n\\nYou could also say:\\n\\n* **Guten Tag Deutschland!** (More formal)\\n\\nBut “Hallo Deutschland!” is perfectly acceptable.', additional_kwargs={}, response_metadata={'model': 'gemma3:1b', 'created_at': '2025-05-07T17:11:40.8171728Z', 'done': True, 'done_reason': 'stop', 'total_duration': 2181668500, 'load_duration': 48617800, 'prompt_eval_count': 24, 'prompt_eval_duration': 178529600, 'eval_count': 54, 'eval_duration': 1931277200, 'model_name': 'gemma3:1b'}, id='run--f5671451-a1b3-4070-9051-04b9cb07df25-0', usage_metadata={'input_tokens': 24, 'output_tokens': 54, 'total_tokens': 78})"
      ]
     },
     "execution_count": 2,
     "metadata": {},
     "output_type": "execute_result"
    }
   ],
   "source": [
    "\n",
    "\n",
    "from langchain.chat_models import init_chat_model\n",
    "\n",
    "model = init_chat_model(\"gemma3:1b\", model_provider=\"ollama\")\n",
    "\n",
    "messages = [\n",
    "    {\"role\": \"system\", \"content\": \"Translate the following from English into German\"},\n",
    "    {\"role\": \"user\", \"content\": \"Hello Germany!\"},\n",
    "]\n",
    "\n",
    "model.invoke(messages)\n",
    "\n",
    "     \n"
   ]
  }
 ],
 "metadata": {
  "kernelspec": {
   "display_name": "Python 3",
   "language": "python",
   "name": "python3"
  },
  "language_info": {
   "codemirror_mode": {
    "name": "ipython",
    "version": 3
   },
   "file_extension": ".py",
   "mimetype": "text/x-python",
   "name": "python",
   "nbconvert_exporter": "python",
   "pygments_lexer": "ipython3",
   "version": "3.11.9"
  }
 },
 "nbformat": 4,
 "nbformat_minor": 5
}
