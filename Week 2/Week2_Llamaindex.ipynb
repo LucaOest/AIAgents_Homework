{
 "cells": [
  {
   "cell_type": "code",
   "execution_count": 3,
   "id": "c20d7f56",
   "metadata": {},
   "outputs": [
    {
     "name": "stdout",
     "output_type": "stream",
     "text": [
      "assistant: Okay, let's break down what OpenCampus.sh is all about.\n",
      "\n",
      "**OpenCampus.sh is a decentralized, open-source, and community-driven platform for building and sharing open-source AI-powered educational tools.**  It's essentially a hub for educators and developers to collaborate and create innovative educational experiences.\n",
      "\n",
      "Here's a breakdown of its key aspects:\n",
      "\n",
      "**1. Core Concept: AI-Powered Learning Tools**\n",
      "\n",
      "* **Focus on AI:**  The primary goal is to leverage AI to personalize and enhance learning.  OpenCampus.sh focuses on creating tools that adapt to individual student needs and learning styles.\n",
      "* **Educational Tools:**  It's not just about AI; it's about building *tools* – like quizzes, assessments, learning paths, chatbots, and more – that can be used in educational settings.\n",
      "\n",
      "**2. Key Features & Components:**\n",
      "\n",
      "* **Open Source:** This is a huge part of what makes it valuable.  The code is publicly available, allowing anyone to inspect, modify, and contribute to its development.\n",
      "* **Decentralized:** It’s built on a blockchain, meaning transactions and data are recorded on a distributed ledger. This offers potential benefits like increased transparency, security, and resilience against censorship.\n",
      "* **Community-Driven:** It’s a collaborative effort with a large and active community of developers, educators, and researchers.\n",
      "* **Modules & Templates:**  OpenCampus.sh provides a library of modules and templates that make it easier for developers to create and share AI-powered educational tools quickly.\n",
      "* **Learning Path Builder:** A particularly noteworthy feature is the 'Learning Path Builder' – a tool to design and share learning paths, including assessments, and integration with various educational platforms.\n",
      "* **AI-Powered Assessments:** It incorporates AI to help create automated assessments that adapt to individual student performance.\n",
      "\n",
      "**3.  What it's Designed For:**\n",
      "\n",
      "* **Teachers & Educators:**  Provides tools to streamline lesson planning, create personalized learning experiences, and assess student understanding more effectively.\n",
      "* **Developers:** Offers a platform to build and test their AI-powered educational tools.\n",
      "* **Researchers:** Facilitates collaboration and data sharing in the field of AI and education.\n",
      "\n",
      "**4.  Why it's Significant:**\n",
      "\n",
      "* **Innovation:** It’s pushing the boundaries of educational technology by focusing on AI and decentralization.\n",
      "* **Accessibility:**  The open-source nature promotes wider adoption and customization.\n",
      "* **Privacy:**  The blockchain component could offer enhanced privacy for student data.\n",
      "\n",
      "**Resources to Learn More:**\n",
      "\n",
      "* **Official Website:** [https://opencampus.sh/](https://opencampus.sh/) - This is the best place to get the most up-to-date information.\n",
      "\n",
      "**In short, OpenCampus.sh is an exciting project aiming to democratize AI-powered education through a collaborative and open-source approach.**\n",
      "\n",
      "---\n",
      "\n",
      "**Do you want me to:**\n",
      "\n",
      "*   Dive deeper into a specific aspect of OpenCampus.sh (e.g., the Learning Path Builder)?\n",
      "*   Compare it to other AI-focused learning platforms?\n",
      "*   Explain its potential impact on education?\n"
     ]
    }
   ],
   "source": [
    "\n",
    "from llama_index.llms.ollama import Ollama\n",
    "from llama_index.core.llms import ChatMessage\n",
    "\n",
    "llm = Ollama(model=\"gemma3:1b\", request_timeout=60.0)\n",
    "\n",
    "messages = [\n",
    "    ChatMessage(role=\"system\", content=\"You are a helpful assistant.\"),\n",
    "    ChatMessage(role=\"user\", content=\"What is opencampus.sh\"),\n",
    "]\n",
    "\n",
    "chat_response = llm.chat(messages)\n",
    "print(chat_response)\n",
    "\n",
    "     \n"
   ]
  }
 ],
 "metadata": {
  "kernelspec": {
   "display_name": "Python 3",
   "language": "python",
   "name": "python3"
  },
  "language_info": {
   "codemirror_mode": {
    "name": "ipython",
    "version": 3
   },
   "file_extension": ".py",
   "mimetype": "text/x-python",
   "name": "python",
   "nbconvert_exporter": "python",
   "pygments_lexer": "ipython3",
   "version": "3.11.9"
  }
 },
 "nbformat": 4,
 "nbformat_minor": 5
}
